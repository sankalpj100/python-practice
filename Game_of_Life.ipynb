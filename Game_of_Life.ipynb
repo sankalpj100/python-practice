{
  "nbformat": 4,
  "nbformat_minor": 0,
  "metadata": {
    "colab": {
      "name": "Game of Life",
      "provenance": [],
      "collapsed_sections": [],
      "authorship_tag": "ABX9TyPX1w82zSl2hpx8kSH1pL/E",
      "include_colab_link": true
    },
    "kernelspec": {
      "name": "python3",
      "display_name": "Python 3"
    }
  },
  "cells": [
    {
      "cell_type": "markdown",
      "metadata": {
        "id": "view-in-github",
        "colab_type": "text"
      },
      "source": [
        "<a href=\"https://colab.research.google.com/github/sankalpj100/python-practice/blob/master/Game_of_Life.ipynb\" target=\"_parent\"><img src=\"https://colab.research.google.com/assets/colab-badge.svg\" alt=\"Open In Colab\"/></a>"
      ]
    },
    {
      "cell_type": "code",
      "metadata": {
        "id": "3SgQDeYeFbiJ",
        "colab_type": "code",
        "colab": {}
      },
      "source": [
        "import numpy\n",
        "import time\n",
        "\n",
        "#Order of the Game\n",
        "i = 5\n",
        "\n",
        "#Builiding the matrix\n",
        "p = numpy.matrix(numpy.zeros(shape=(i,i), dtype=int))\n",
        "a = numpy.matrix(numpy.zeros(shape=(i,i), dtype=int))\n",
        "\n",
        "#Input for the Game of Life\n",
        "p[2,1] = 1\n",
        "p[2,2] = 1\n",
        "p[2,3] = 1\n",
        "\n",
        "#Rule check\n",
        "def check(p, a):\n",
        "  for x in range(1,i-1):\n",
        "      for y in range(1,i-1):\n",
        "        if p[x,y] == 1:\n",
        "          if p[x + 1,y] + p[x - 1,y] + p[x ,y + 1] + p[x,y - 1] + p[x + 1,y + 1] + p[x - 1,y - 1] + p[x + 1 ,y - 1] + p[x - 1,y + 1] == 1 or 0:\n",
        "            a[x,y] = 0\n",
        "          elif p[x + 1,y] + p[x - 1,y] + p[x ,y + 1] + p[x,y - 1] + p[x + 1,y + 1] + p[x - 1,y - 1] + p[x + 1 ,y - 1] + p[x - 1,y + 1] == 2 or 3:\n",
        "            a[x,y] = 1\n",
        "          elif p[x + 1,y] + p[x - 1,y] + p[x ,y + 1] + p[x,y - 1] + p[x + 1,y + 1] + p[x - 1,y - 1] + p[x + 1 ,y - 1] + p[x - 1,y + 1] == 4:\n",
        "            a[x,y] = 0\n",
        "        elif p[x,y] == 0:\n",
        "          if p[x + 1,y] + p[x - 1,y] + p[x ,y + 1] + p[x,y - 1] + p[x + 1,y + 1] + p[x - 1,y - 1] + p[x + 1 ,y - 1] + p[x - 1,y + 1] == 3:\n",
        "            a[x,y] = 1\n",
        "  print(a)\n",
        "  time.sleep(1)\n",
        "  again(p,a)\n",
        "\n",
        "#Looping it again\n",
        "def again(p,a):\n",
        "  p = a\n",
        "  a = numpy.matrix(numpy.zeros(shape=(i,i), dtype=int))\n",
        "  check(p, a)\n",
        "\n",
        "check(p, a)"
      ],
      "execution_count": 0,
      "outputs": []
    },
    {
      "cell_type": "markdown",
      "metadata": {
        "id": "3JTSagl-QwsB",
        "colab_type": "text"
      },
      "source": [
        "\n"
      ]
    }
  ]
}